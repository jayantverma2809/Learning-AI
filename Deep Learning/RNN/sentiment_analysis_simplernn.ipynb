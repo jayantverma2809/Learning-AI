{
  "nbformat": 4,
  "nbformat_minor": 0,
  "metadata": {
    "colab": {
      "provenance": []
    },
    "kernelspec": {
      "name": "python3",
      "display_name": "Python 3"
    },
    "language_info": {
      "name": "python"
    },
    "accelerator": "GPU",
    "gpuClass": "standard"
  },
  "cells": [
    {
      "cell_type": "code",
      "execution_count": null,
      "metadata": {
        "id": "vR6C9i-fyLvG"
      },
      "outputs": [],
      "source": [
        "docs = ['go india',\n",
        "\t\t'india india',\n",
        "\t\t'hip hip hurray',\n",
        "\t\t'jeetega bhai jeetega india jeetega',\n",
        "\t\t'bharat mata ki jai',\n",
        "\t\t'kohli kohli',\n",
        "\t\t'sachin sachin',\n",
        "\t\t'dhoni dhoni',\n",
        "\t\t'modi ji ki jai',\n",
        "\t\t'inquilab zindabad']"
      ]
    },
    {
      "cell_type": "code",
      "source": [
        "from keras.preprocessing.text import Tokenizer\n",
        "tokenizer = Tokenizer()"
      ],
      "metadata": {
        "id": "xRzvJNh1mRQW"
      },
      "execution_count": null,
      "outputs": []
    },
    {
      "cell_type": "code",
      "source": [
        "tokenizer.fit_on_texts(docs)"
      ],
      "metadata": {
        "id": "2IhkPg6YmRYT"
      },
      "execution_count": null,
      "outputs": []
    },
    {
      "cell_type": "code",
      "source": [
        "len(tokenizer.word_index)"
      ],
      "metadata": {
        "colab": {
          "base_uri": "https://localhost:8080/"
        },
        "id": "dP5g_Tmin4AG",
        "outputId": "219ad8f6-9390-4da8-afcd-d51a13a5b1e8"
      },
      "execution_count": null,
      "outputs": [
        {
          "output_type": "execute_result",
          "data": {
            "text/plain": [
              "17"
            ]
          },
          "metadata": {},
          "execution_count": 19
        }
      ]
    },
    {
      "cell_type": "code",
      "source": [
        "sequences = tokenizer.texts_to_sequences(docs)\n",
        "sequences"
      ],
      "metadata": {
        "colab": {
          "base_uri": "https://localhost:8080/"
        },
        "id": "lOv8NrFFmRcE",
        "outputId": "eb3fbafe-991a-450a-e4f8-2988c5df6525"
      },
      "execution_count": null,
      "outputs": [
        {
          "output_type": "execute_result",
          "data": {
            "text/plain": [
              "[[9, 1],\n",
              " [1, 1],\n",
              " [3, 3, 10],\n",
              " [2, 11, 2, 1, 2],\n",
              " [12, 13, 4, 5],\n",
              " [6, 6],\n",
              " [7, 7],\n",
              " [8, 8],\n",
              " [14, 15, 4, 5],\n",
              " [16, 17]]"
            ]
          },
          "metadata": {},
          "execution_count": 20
        }
      ]
    },
    {
      "cell_type": "code",
      "source": [
        "from keras.utils import pad_sequences\n",
        "sequences = pad_sequences(sequences,padding='post')\n",
        "sequences"
      ],
      "metadata": {
        "colab": {
          "base_uri": "https://localhost:8080/"
        },
        "id": "KG1RqcLnmRkA",
        "outputId": "d497ded2-754f-457b-80f3-a4a69bbf1373"
      },
      "execution_count": null,
      "outputs": [
        {
          "output_type": "execute_result",
          "data": {
            "text/plain": [
              "array([[ 9,  1,  0,  0,  0],\n",
              "       [ 1,  1,  0,  0,  0],\n",
              "       [ 3,  3, 10,  0,  0],\n",
              "       [ 2, 11,  2,  1,  2],\n",
              "       [12, 13,  4,  5,  0],\n",
              "       [ 6,  6,  0,  0,  0],\n",
              "       [ 7,  7,  0,  0,  0],\n",
              "       [ 8,  8,  0,  0,  0],\n",
              "       [14, 15,  4,  5,  0],\n",
              "       [16, 17,  0,  0,  0]], dtype=int32)"
            ]
          },
          "metadata": {},
          "execution_count": 21
        }
      ]
    },
    {
      "cell_type": "code",
      "source": [
        "model = Sequential()\n",
        "model.add(Embedding(17,output_dim=2,input_length=5))\n",
        "\n",
        "model.summary()"
      ],
      "metadata": {
        "colab": {
          "base_uri": "https://localhost:8080/"
        },
        "id": "ETWEOn4wmRzd",
        "outputId": "b0ac8b69-117d-466c-ae34-422ffe7a90e1"
      },
      "execution_count": null,
      "outputs": [
        {
          "output_type": "stream",
          "name": "stdout",
          "text": [
            "Model: \"sequential_4\"\n",
            "_________________________________________________________________\n",
            " Layer (type)                Output Shape              Param #   \n",
            "=================================================================\n",
            " embedding_4 (Embedding)     (None, 5, 2)              34        \n",
            "                                                                 \n",
            "=================================================================\n",
            "Total params: 34\n",
            "Trainable params: 34\n",
            "Non-trainable params: 0\n",
            "_________________________________________________________________\n"
          ]
        }
      ]
    },
    {
      "cell_type": "code",
      "source": [
        "model.compile('adam','accuracy')"
      ],
      "metadata": {
        "id": "R68ghDfNmSAC"
      },
      "execution_count": null,
      "outputs": []
    },
    {
      "cell_type": "code",
      "source": [
        "pred = model.predict(sequences)\n",
        "print(pred)"
      ],
      "metadata": {
        "colab": {
          "base_uri": "https://localhost:8080/"
        },
        "id": "ooYWO2NwoKoQ",
        "outputId": "62b763d3-07b0-49d5-a2ca-23fe55c4ee7e"
      },
      "execution_count": null,
      "outputs": [
        {
          "output_type": "stream",
          "name": "stdout",
          "text": [
            "1/1 [==============================] - 0s 15ms/step\n",
            "[[[-0.03378457 -0.0223366 ]\n",
            "  [-0.01869411  0.0397962 ]\n",
            "  [ 0.04738592  0.03497881]\n",
            "  [ 0.04738592  0.03497881]\n",
            "  [ 0.04738592  0.03497881]]\n",
            "\n",
            " [[-0.01869411  0.0397962 ]\n",
            "  [-0.01869411  0.0397962 ]\n",
            "  [ 0.04738592  0.03497881]\n",
            "  [ 0.04738592  0.03497881]\n",
            "  [ 0.04738592  0.03497881]]\n",
            "\n",
            " [[ 0.00716299  0.02782274]\n",
            "  [ 0.00716299  0.02782274]\n",
            "  [-0.02727993 -0.02907238]\n",
            "  [ 0.04738592  0.03497881]\n",
            "  [ 0.04738592  0.03497881]]\n",
            "\n",
            " [[ 0.04634063 -0.01492285]\n",
            "  [ 0.04544855 -0.02214533]\n",
            "  [ 0.04634063 -0.01492285]\n",
            "  [-0.01869411  0.0397962 ]\n",
            "  [ 0.04634063 -0.01492285]]\n",
            "\n",
            " [[ 0.03687553  0.00542127]\n",
            "  [ 0.00882751  0.02693466]\n",
            "  [ 0.00960891 -0.02113671]\n",
            "  [-0.01385436  0.00159916]\n",
            "  [ 0.04738592  0.03497881]]\n",
            "\n",
            " [[ 0.04272473 -0.02110641]\n",
            "  [ 0.04272473 -0.02110641]\n",
            "  [ 0.04738592  0.03497881]\n",
            "  [ 0.04738592  0.03497881]\n",
            "  [ 0.04738592  0.03497881]]\n",
            "\n",
            " [[ 0.01033523 -0.02812191]\n",
            "  [ 0.01033523 -0.02812191]\n",
            "  [ 0.04738592  0.03497881]\n",
            "  [ 0.04738592  0.03497881]\n",
            "  [ 0.04738592  0.03497881]]\n",
            "\n",
            " [[ 0.0243187  -0.02920236]\n",
            "  [ 0.0243187  -0.02920236]\n",
            "  [ 0.04738592  0.03497881]\n",
            "  [ 0.04738592  0.03497881]\n",
            "  [ 0.04738592  0.03497881]]\n",
            "\n",
            " [[ 0.03549886  0.00285759]\n",
            "  [ 0.0033599  -0.03792955]\n",
            "  [ 0.00960891 -0.02113671]\n",
            "  [-0.01385436  0.00159916]\n",
            "  [ 0.04738592  0.03497881]]\n",
            "\n",
            " [[-0.03086355  0.04078293]\n",
            "  [ 0.          0.        ]\n",
            "  [ 0.04738592  0.03497881]\n",
            "  [ 0.04738592  0.03497881]\n",
            "  [ 0.04738592  0.03497881]]]\n"
          ]
        }
      ]
    },
    {
      "cell_type": "code",
      "source": [
        "from keras.datasets import imdb\n",
        "from keras.preprocessing.text import Tokenizer\n",
        "from keras.utils import pad_sequences\n",
        "from keras import Sequential\n",
        "from keras.layers import Dense,SimpleRNN,Embedding,Flatten"
      ],
      "metadata": {
        "id": "yrM0IXVamPLn"
      },
      "execution_count": null,
      "outputs": []
    },
    {
      "cell_type": "code",
      "source": [
        "(X_train,y_train),(X_test,y_test) = imdb.load_data()"
      ],
      "metadata": {
        "id": "4aH4HVjcyq1f"
      },
      "execution_count": null,
      "outputs": []
    },
    {
      "cell_type": "code",
      "source": [
        "X_train = pad_sequences(X_train,padding='post',maxlen=50)\n",
        "X_test = pad_sequences(X_test,padding='post',maxlen=50)"
      ],
      "metadata": {
        "id": "cu2UOZGUzAEF"
      },
      "execution_count": null,
      "outputs": []
    },
    {
      "cell_type": "code",
      "source": [
        "X_train.shape"
      ],
      "metadata": {
        "colab": {
          "base_uri": "https://localhost:8080/"
        },
        "id": "aO412Krkz7EO",
        "outputId": "b4f2de4f-c1ba-4d76-c8b9-cf7087850a3c"
      },
      "execution_count": null,
      "outputs": [
        {
          "output_type": "execute_result",
          "data": {
            "text/plain": [
              "(25000, 50)"
            ]
          },
          "metadata": {},
          "execution_count": 4
        }
      ]
    },
    {
      "cell_type": "code",
      "source": [
        "model = Sequential()\n",
        "model.add(Embedding(10000, 2,50))\n",
        "model.add(SimpleRNN(32,return_sequences=False))\n",
        "model.add(Dense(1, activation='sigmoid'))\n",
        "\n",
        "model.summary()"
      ],
      "metadata": {
        "colab": {
          "base_uri": "https://localhost:8080/"
        },
        "id": "WWXhm8vP_DO-",
        "outputId": "c3eb5f20-a438-4439-b5fe-640f215fb61c"
      },
      "execution_count": null,
      "outputs": [
        {
          "output_type": "stream",
          "name": "stdout",
          "text": [
            "Model: \"sequential\"\n",
            "_________________________________________________________________\n",
            " Layer (type)                Output Shape              Param #   \n",
            "=================================================================\n",
            " embedding (Embedding)       (None, None, 2)           20000     \n",
            "                                                                 \n",
            " simple_rnn (SimpleRNN)      (None, 32)                1120      \n",
            "                                                                 \n",
            " dense (Dense)               (None, 1)                 33        \n",
            "                                                                 \n",
            "=================================================================\n",
            "Total params: 21,153\n",
            "Trainable params: 21,153\n",
            "Non-trainable params: 0\n",
            "_________________________________________________________________\n"
          ]
        }
      ]
    },
    {
      "cell_type": "code",
      "source": [
        "model.compile(optimizer='adam', loss='binary_crossentropy', metrics=['acc'])\n",
        "history = model.fit(X_train, y_train,epochs=5,validation_data=(X_test,y_test))"
      ],
      "metadata": {
        "colab": {
          "base_uri": "https://localhost:8080/"
        },
        "id": "AGCAZ7Rm_fqH",
        "outputId": "6f6a73ab-fbd4-4a23-ea56-46e3f9358c8a"
      },
      "execution_count": null,
      "outputs": [
        {
          "output_type": "stream",
          "name": "stdout",
          "text": [
            "Epoch 1/5\n",
            "782/782 [==============================] - 40s 50ms/step - loss: 0.5801 - acc: 0.6731 - val_loss: 0.4433 - val_acc: 0.7978\n",
            "Epoch 2/5\n",
            "782/782 [==============================] - 39s 50ms/step - loss: 0.3524 - acc: 0.8510 - val_loss: 0.4430 - val_acc: 0.8051\n",
            "Epoch 3/5\n",
            "782/782 [==============================] - 39s 50ms/step - loss: 0.2040 - acc: 0.9224 - val_loss: 0.5460 - val_acc: 0.7828\n",
            "Epoch 4/5\n",
            "782/782 [==============================] - 38s 49ms/step - loss: 0.0823 - acc: 0.9735 - val_loss: 0.6990 - val_acc: 0.7824\n",
            "Epoch 5/5\n",
            "782/782 [==============================] - 38s 49ms/step - loss: 0.0352 - acc: 0.9894 - val_loss: 0.8774 - val_acc: 0.7670\n"
          ]
        }
      ]
    },
    {
      "cell_type": "code",
      "source": [],
      "metadata": {
        "id": "jAQETwiZikEY"
      },
      "execution_count": null,
      "outputs": []
    }
  ]
}