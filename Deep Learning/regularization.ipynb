{
  "nbformat": 4,
  "nbformat_minor": 0,
  "metadata": {
    "colab": {
      "provenance": []
    },
    "kernelspec": {
      "name": "python3",
      "display_name": "Python 3"
    },
    "language_info": {
      "name": "python"
    }
  },
  "cells": [
    {
      "cell_type": "code",
      "execution_count": null,
      "metadata": {
        "id": "XEEU0bzZCrec"
      },
      "outputs": [],
      "source": [
        "import numpy as np\n",
        "import matplotlib.pyplot as plt\n",
        "from sklearn.datasets import make_moons\n",
        "import seaborn as sns\n",
        "from mlxtend.plotting import plot_decision_regions\n",
        "\n",
        "import tensorflow\n",
        "from tensorflow.keras.models import Sequential\n",
        "from tensorflow.keras.layers import Dense\n",
        "from tensorflow.keras.layers import Dropout\n",
        "from tensorflow.keras.optimizers import Adam"
      ]
    },
    {
      "cell_type": "code",
      "source": [
        "X, y = make_moons(100, noise=0.25,random_state=2)"
      ],
      "metadata": {
        "id": "lpjYZPGlCsRy"
      },
      "execution_count": null,
      "outputs": []
    },
    {
      "cell_type": "code",
      "source": [
        "import matplotlib.pyplot as plt\n",
        "plt.scatter(X[:,0], X[:,1], c=y)\n",
        "plt.show()"
      ],
      "metadata": {
        "colab": {
          "base_uri": "https://localhost:8080/",
          "height": 265
        },
        "id": "tJXFNxw7Cv4A",
        "outputId": "90619b22-b44c-4259-d184-97d844be5a61"
      },
      "execution_count": null,
      "outputs": [
        {
          "output_type": "display_data",
          "data": {
            "text/plain": [
              "<Figure size 432x288 with 1 Axes>"
            ],
            "image/png": "[encoded data removed]"
          },
          "metadata": {
            "needs_background": "light"
          }
        }
      ]
    },
    {
      "cell_type": "code",
      "source": [
        "model1 = Sequential()\n",
        "\n",
        "model1.add(Dense(128,input_dim=2, activation=\"relu\"))\n",
        "model1.add(Dense(128, activation=\"relu\"))\n",
        "model1.add(Dense(1,activation='sigmoid'))\n",
        "\n",
        "model1.summary()"
      ],
      "metadata": {
        "colab": {
          "base_uri": "https://localhost:8080/"
        },
        "id": "wcHQFoH-C14o",
        "outputId": "dcfd5887-9ec4-4564-f7ce-32b156c33b75"
      },
      "execution_count": null,
      "outputs": [
        {
          "output_type": "stream",
          "name": "stdout",
          "text": [
            "Model: \"sequential_2\"\n",
            "_________________________________________________________________\n",
            " Layer (type)                Output Shape              Param #   \n",
            "=================================================================\n",
            " dense_6 (Dense)             (None, 128)               384       \n",
            "                                                                 \n",
            " dense_7 (Dense)             (None, 128)               16512     \n",
            "                                                                 \n",
            " dense_8 (Dense)             (None, 1)                 129       \n",
            "                                                                 \n",
            "=================================================================\n",
            "Total params: 17,025\n",
            "Trainable params: 17,025\n",
            "Non-trainable params: 0\n",
            "_________________________________________________________________\n"
          ]
        }
      ]
    },
    {
      "cell_type": "code",
      "source": [
        "adam = Adam(learning_rate=0.01)\n",
        "model1.compile(loss='binary_crossentropy', optimizer=adam, metrics=['accuracy'])\n",
        "\n",
        "history1 = model1.fit(X, y, epochs=2000, validation_split = 0.2,verbose=0)"
      ],
      "metadata": {
        "id": "vrGZEwyIC9aE"
      },
      "execution_count": null,
      "outputs": []
    },
    {
      "cell_type": "code",
      "source": [
        "plot_decision_regions(X, y.astype('int'), clf=model1, legend=2)\n",
        "plt.xlim(-2,3)\n",
        "plt.ylim(-1.5,2)\n",
        "plt.show()"
      ],
      "metadata": {
        "colab": {
          "base_uri": "https://localhost:8080/",
          "height": 325
        },
        "id": "UfJedHLjDEyc",
        "outputId": "e896777a-14a6-446b-ce10-3a3d0316b8d5"
      },
      "execution_count": null,
      "outputs": [
        {
          "output_type": "stream",
          "name": "stderr",
          "text": [
            "/usr/local/lib/python3.7/dist-packages/mlxtend/plotting/decision_regions.py:244: MatplotlibDeprecationWarning: Passing unsupported keyword arguments to axis() will raise a TypeError in 3.3.\n",
            "  ax.axis(xmin=xx.min(), xmax=xx.max(), y_min=yy.min(), y_max=yy.max())\n"
          ]
        },
        {
          "output_type": "display_data",
          "data": {
            "text/plain": [
              "<Figure size 432x288 with 1 Axes>"
            ],
            "image/png": "[encoded data removed]"
          },
          "metadata": {
            "needs_background": "light"
          }
        }
      ]
    },
    {
      "cell_type": "code",
      "source": [
        "plt.plot(history1.history['loss'])\n",
        "plt.plot(history1.history['val_loss'])"
      ],
      "metadata": {
        "colab": {
          "base_uri": "https://localhost:8080/",
          "height": 283
        },
        "id": "40lIZPmeVPVw",
        "outputId": "ae6bffce-e2e7-41c9-f036-eb1f3aafed60"
      },
      "execution_count": null,
      "outputs": [
        {
          "output_type": "execute_result",
          "data": {
            "text/plain": [
              "[<matplotlib.lines.Line2D at 0x7f042d0f3210>]"
            ]
          },
          "metadata": {},
          "execution_count": 24
        },
        {
          "output_type": "display_data",
          "data": {
            "text/plain": [
              "<Figure size 432x288 with 1 Axes>"
            ],
            "image/png": "[encoded data removed]"
          },
          "metadata": {
            "needs_background": "light"
          }
        }
      ]
    },
    {
      "cell_type": "code",
      "source": [
        "model2 = Sequential()\n",
        "\n",
        "model2.add(Dense(128,input_dim=2, activation=\"relu\",kernel_regularizer=tensorflow.keras.regularizers.l1(0.001)))\n",
        "model2.add(Dense(128, activation=\"relu\",kernel_regularizer=tensorflow.keras.regularizers.l1(0.001)))\n",
        "model2.add(Dense(1,activation='sigmoid'))\n",
        "\n",
        "model2.summary()"
      ],
      "metadata": {
        "colab": {
          "base_uri": "https://localhost:8080/"
        },
        "id": "k8ZnOrbIvinp",
        "outputId": "c903d6d2-37c8-4890-9cdc-9931802c8f0a"
      },
      "execution_count": null,
      "outputs": [
        {
          "output_type": "stream",
          "name": "stdout",
          "text": [
            "Model: \"sequential_7\"\n",
            "_________________________________________________________________\n",
            " Layer (type)                Output Shape              Param #   \n",
            "=================================================================\n",
            " dense_21 (Dense)            (None, 128)               384       \n",
            "                                                                 \n",
            " dense_22 (Dense)            (None, 128)               16512     \n",
            "                                                                 \n",
            " dense_23 (Dense)            (None, 1)                 129       \n",
            "                                                                 \n",
            "=================================================================\n",
            "Total params: 17,025\n",
            "Trainable params: 17,025\n",
            "Non-trainable params: 0\n",
            "_________________________________________________________________\n"
          ]
        }
      ]
    },
    {
      "cell_type": "code",
      "source": [
        "adam = Adam(learning_rate=0.01)\n",
        "model2.compile(loss='binary_crossentropy', optimizer=adam, metrics=['accuracy'])\n",
        "\n",
        "history2 = model2.fit(X, y, epochs=2000, validation_split = 0.2,verbose=0)"
      ],
      "metadata": {
        "id": "HNjIkZe8whLV"
      },
      "execution_count": null,
      "outputs": []
    },
    {
      "cell_type": "code",
      "source": [
        "plot_decision_regions(X, y.astype('int'), clf=model2, legend=2)\n",
        "plt.xlim(-2,3)\n",
        "plt.ylim(-1.5,2)\n",
        "plt.show()"
      ],
      "metadata": {
        "colab": {
          "base_uri": "https://localhost:8080/",
          "height": 325
        },
        "id": "ioRq1E3awj42",
        "outputId": "9e64e24c-5dad-4e89-d1d6-b73c7e8ab70a"
      },
      "execution_count": null,
      "outputs": [
        {
          "output_type": "stream",
          "name": "stderr",
          "text": [
            "/usr/local/lib/python3.7/dist-packages/mlxtend/plotting/decision_regions.py:244: MatplotlibDeprecationWarning: Passing unsupported keyword arguments to axis() will raise a TypeError in 3.3.\n",
            "  ax.axis(xmin=xx.min(), xmax=xx.max(), y_min=yy.min(), y_max=yy.max())\n"
          ]
        },
        {
          "output_type": "display_data",
          "data": {
            "text/plain": [
              "<Figure size 432x288 with 1 Axes>"
            ],
            "image/png": "[encoded data removed]"
          },
          "metadata": {
            "needs_background": "light"
          }
        }
      ]
    },
    {
      "cell_type": "code",
      "source": [
        "plt.plot(history2.history['loss'])\n",
        "plt.plot(history2.history['val_loss'])"
      ],
      "metadata": {
        "colab": {
          "base_uri": "https://localhost:8080/",
          "height": 283
        },
        "id": "njwsZuvWVyIT",
        "outputId": "9647c278-8802-437d-e966-f1f5dbf76d7b"
      },
      "execution_count": null,
      "outputs": [
        {
          "output_type": "execute_result",
          "data": {
            "text/plain": [
              "[<matplotlib.lines.Line2D at 0x7f042209ba10>]"
            ]
          },
          "metadata": {},
          "execution_count": 56
        },
        {
          "output_type": "display_data",
          "data": {
            "text/plain": [
              "<Figure size 432x288 with 1 Axes>"
            ],
            "image/png": "[encoded data removed]"
          },
          "metadata": {
            "needs_background": "light"
          }
        }
      ]
    },
    {
      "cell_type": "code",
      "source": [
        "model1_weight_layer1 = model1.get_weights()[0].reshape(256)\n",
        "model2_weight_layer1 = model2.get_weights()[0].reshape(256)"
      ],
      "metadata": {
        "id": "KyB5EBy8woTH"
      },
      "execution_count": null,
      "outputs": []
    },
    {
      "cell_type": "code",
      "source": [
        "sns.boxplot(model1_weight_layer1)"
      ],
      "metadata": {
        "colab": {
          "base_uri": "https://localhost:8080/",
          "height": 338
        },
        "id": "jPX6myb14t2s",
        "outputId": "ac0ea0ab-33ee-444e-fd2f-eea646a92f4a"
      },
      "execution_count": null,
      "outputs": [
        {
          "output_type": "stream",
          "name": "stderr",
          "text": [
            "/usr/local/lib/python3.7/dist-packages/seaborn/_decorators.py:43: FutureWarning: Pass the following variable as a keyword arg: x. From version 0.12, the only valid positional argument will be `data`, and passing other arguments without an explicit keyword will result in an error or misinterpretation.\n",
            "  FutureWarning\n"
          ]
        },
        {
          "output_type": "execute_result",
          "data": {
            "text/plain": [
              "<matplotlib.axes._subplots.AxesSubplot at 0x7f04220b8b10>"
            ]
          },
          "metadata": {},
          "execution_count": 58
        },
        {
          "output_type": "display_data",
          "data": {
            "text/plain": [
              "<Figure size 432x288 with 1 Axes>"
            ],
            "image/png": "[encoded data removed]"
          },
          "metadata": {
            "needs_background": "light"
          }
        }
      ]
    },
    {
      "cell_type": "code",
      "source": [
        "sns.boxplot(model2_weight_layer1)"
      ],
      "metadata": {
        "colab": {
          "base_uri": "https://localhost:8080/",
          "height": 338
        },
        "id": "vxusTpdV6icl",
        "outputId": "36ac536a-ded1-484e-d8bd-eaea2bcf7dce"
      },
      "execution_count": null,
      "outputs": [
        {
          "output_type": "stream",
          "name": "stderr",
          "text": [
            "/usr/local/lib/python3.7/dist-packages/seaborn/_decorators.py:43: FutureWarning: Pass the following variable as a keyword arg: x. From version 0.12, the only valid positional argument will be `data`, and passing other arguments without an explicit keyword will result in an error or misinterpretation.\n",
            "  FutureWarning\n"
          ]
        },
        {
          "output_type": "execute_result",
          "data": {
            "text/plain": [
              "<matplotlib.axes._subplots.AxesSubplot at 0x7f042202c390>"
            ]
          },
          "metadata": {},
          "execution_count": 59
        },
        {
          "output_type": "display_data",
          "data": {
            "text/plain": [
              "<Figure size 432x288 with 1 Axes>"
            ],
            "image/png": "[encoded data removed]"
          },
          "metadata": {
            "needs_background": "light"
          }
        }
      ]
    },
    {
      "cell_type": "code",
      "source": [
        "model1_weight_layer1.min()"
      ],
      "metadata": {
        "colab": {
          "base_uri": "https://localhost:8080/"
        },
        "id": "X53hfLJV7bVq",
        "outputId": "91138486-2df5-4c85-b2e7-e41d11ee6ebb"
      },
      "execution_count": null,
      "outputs": [
        {
          "output_type": "execute_result",
          "data": {
            "text/plain": [
              "-2.7185578"
            ]
          },
          "metadata": {},
          "execution_count": 48
        }
      ]
    },
    {
      "cell_type": "code",
      "source": [
        "model2_weight_layer1.min()"
      ],
      "metadata": {
        "colab": {
          "base_uri": "https://localhost:8080/"
        },
        "id": "PGrQUvX57erb",
        "outputId": "0b8512d6-0f55-4460-d89e-7480b3e9704c"
      },
      "execution_count": null,
      "outputs": [
        {
          "output_type": "execute_result",
          "data": {
            "text/plain": [
              "-1.8934479"
            ]
          },
          "metadata": {},
          "execution_count": 60
        }
      ]
    },
    {
      "cell_type": "code",
      "source": [
        "sns.distplot(model1_weight_layer1)\n",
        "sns.distplot(model2_weight_layer1)"
      ],
      "metadata": {
        "colab": {
          "base_uri": "https://localhost:8080/",
          "height": 374
        },
        "id": "xwXhLZecZKHt",
        "outputId": "59383d5b-2f81-452d-da42-8cb5e0e01151"
      },
      "execution_count": null,
      "outputs": [
        {
          "output_type": "stream",
          "name": "stderr",
          "text": [
            "/usr/local/lib/python3.7/dist-packages/seaborn/distributions.py:2619: FutureWarning: `distplot` is a deprecated function and will be removed in a future version. Please adapt your code to use either `displot` (a figure-level function with similar flexibility) or `histplot` (an axes-level function for histograms).\n",
            "  warnings.warn(msg, FutureWarning)\n",
            "/usr/local/lib/python3.7/dist-packages/seaborn/distributions.py:2619: FutureWarning: `distplot` is a deprecated function and will be removed in a future version. Please adapt your code to use either `displot` (a figure-level function with similar flexibility) or `histplot` (an axes-level function for histograms).\n",
            "  warnings.warn(msg, FutureWarning)\n"
          ]
        },
        {
          "output_type": "execute_result",
          "data": {
            "text/plain": [
              "<matplotlib.axes._subplots.AxesSubplot at 0x7f0422018610>"
            ]
          },
          "metadata": {},
          "execution_count": 61
        },
        {
          "output_type": "display_data",
          "data": {
            "text/plain": [
              "<Figure size 432x288 with 1 Axes>"
            ],
            "image/png": "[encoded data removed]"
          },
          "metadata": {
            "needs_background": "light"
          }
        }
      ]
    },
    {
      "cell_type": "code",
      "source": [
        "model1.get_weights()[0].reshape(256)"
      ],
      "metadata": {
        "colab": {
          "base_uri": "https://localhost:8080/"
        },
        "id": "soM0qyWFZPdq",
        "outputId": "550e6a7e-9087-4e10-ee45-3d34bb8ee7df"
      },
      "execution_count": null,
      "outputs": [
        {
          "output_type": "execute_result",
          "data": {
            "text/plain": [
              "array([ 8.36581886e-02,  3.62687036e-02, -4.17765856e-01, -3.93163204e-01,\n",
              "       -3.96005869e-01,  2.13018522e-01,  2.28988439e-01, -3.22141826e-01,\n",
              "        2.23829538e-01,  1.97904125e-01, -5.38365006e-01,  1.70224056e-01,\n",
              "       -1.77298978e-01,  4.41261902e-02,  6.83471262e-02,  2.14902475e-01,\n",
              "        4.95364517e-02,  8.23249444e-02, -5.02141356e-01, -1.56526896e-03,\n",
              "        9.14724991e-02, -2.30933651e-02,  2.13529035e-01,  9.54458341e-02,\n",
              "       -2.91170686e-01,  1.57895297e-01, -5.04917026e-01,  2.12428153e-01,\n",
              "       -2.12982274e-03,  2.03352317e-01,  1.95124984e-01, -5.25625683e-02,\n",
              "       -3.26485872e-01,  2.97886580e-01, -6.85776353e-01,  2.16803566e-01,\n",
              "       -2.26653010e-01,  2.15190932e-01,  2.18419120e-01,  9.44057107e-02,\n",
              "       -3.32020015e-01,  2.72148997e-01, -4.05541629e-01,  2.10304454e-01,\n",
              "       -3.53123620e-02,  2.39017248e-01,  1.97818264e-01,  4.17221524e-02,\n",
              "        2.47686148e-01,  2.60426432e-01,  7.42920935e-02, -1.97996497e-02,\n",
              "        2.49996199e-03,  7.39424825e-02, -3.76863003e-01, -3.45605701e-01,\n",
              "        2.64541715e-01,  1.32041499e-01,  2.02703670e-01, -5.18711984e-01,\n",
              "       -1.18189253e-01,  1.92909852e-01,  6.19973317e-02,  1.69551060e-01,\n",
              "        1.87287569e-01, -4.96824086e-01,  6.72358125e-02, -4.61391211e-01,\n",
              "        2.53824741e-01, -4.05834556e-01,  1.26976356e-01, -5.35438359e-01,\n",
              "        2.17906699e-01, -4.61450815e-01,  1.40626235e-02,  8.39711912e-03,\n",
              "        1.33992940e-01,  2.37961203e-01, -3.23832154e-01,  2.20816463e-01,\n",
              "        1.54505417e-01,  2.60821521e-01, -4.87969033e-02, -1.69064537e-01,\n",
              "       -2.45658420e-02,  2.68627226e-01, -3.08435112e-02, -5.11454821e-01,\n",
              "        1.59141541e-01, -3.70742589e-01,  7.88443834e-02,  4.04660106e-02,\n",
              "        1.14555068e-01,  6.63752928e-02,  9.02682170e-03, -2.60784894e-01,\n",
              "       -4.40374583e-01, -1.14047769e-02, -3.74770425e-02,  1.68620914e-01,\n",
              "        1.78412095e-01,  3.17960113e-01, -1.22944184e-01,  2.22067803e-01,\n",
              "        2.16269627e-01, -1.55968731e-02, -1.53711125e-01,  1.20375909e-01,\n",
              "       -2.82058775e-01, -4.21607405e-01, -2.38318786e-01, -3.87454391e-01,\n",
              "       -5.39283343e-02, -5.19582815e-02,  2.20146533e-02,  2.19618052e-01,\n",
              "       -3.93210024e-01,  5.31659797e-02,  1.20239288e-01, -1.07759438e-01,\n",
              "        6.92361444e-02,  2.54981816e-01,  2.05702752e-01, -4.69989777e-01,\n",
              "       -2.02217568e-02,  2.18708590e-01, -3.57157469e-01, -4.57049876e-01,\n",
              "        1.50024498e+00,  4.97291982e-01,  1.08143896e-01, -2.13980023e-02,\n",
              "       -3.68858159e-01, -1.55548185e-01, -2.20214128e-01, -3.67496133e-01,\n",
              "        3.76471758e-01, -1.12438962e-01, -1.42594591e-01,  2.63052106e-01,\n",
              "        2.86761671e-01, -1.75136283e-01,  1.42654404e-01, -1.64357230e-01,\n",
              "       -2.05702230e-01, -3.31739932e-01, -6.89846743e-03,  1.20316848e-01,\n",
              "        2.39299849e-01,  2.02913046e-01, -1.23616964e-01,  1.96781605e-02,\n",
              "        1.68995097e-01,  8.50129426e-02, -7.56526217e-02, -1.47868231e-01,\n",
              "       -1.22441379e-02,  1.24331288e-01,  8.93589929e-02, -3.18250328e-01,\n",
              "        1.45956382e-01,  1.50910780e-01, -1.24292299e-01, -1.20857731e-01,\n",
              "        3.02440643e-01, -1.56325176e-01, -8.48699063e-02,  1.12520742e+00,\n",
              "        2.29321763e-01, -1.60620332e-01,  2.70279080e-01, -1.20651469e-01,\n",
              "        2.99278051e-01,  4.02042896e-01, -1.20495699e-01, -2.19048098e-01,\n",
              "       -1.40762851e-01, -2.05702767e-01, -4.23372239e-02, -8.96272540e-01,\n",
              "       -1.72349977e+00, -3.21702920e-02, -4.25565869e-01,  1.55981630e-01,\n",
              "       -2.06218705e-01,  2.18112305e-01,  9.11024734e-02, -1.53775085e-02,\n",
              "        2.21733779e-01, -1.11189082e-01, -5.94162345e-02, -7.17675462e-02,\n",
              "       -1.28930464e-01,  1.42400444e-04,  1.16128314e+00,  1.24267630e-01,\n",
              "       -1.96727023e-01,  2.12383211e-01,  3.87428761e-01, -1.30678445e-01,\n",
              "        3.66538137e-01,  2.10566714e-01, -9.19768572e-01,  1.75965977e+00,\n",
              "        2.43212238e-01, -1.89635113e-01,  1.17535554e-01, -1.66406915e-01,\n",
              "       -7.35416561e-02,  4.38676953e-01, -1.25603628e+00,  2.58704990e-01,\n",
              "       -1.68005824e-01, -1.97434500e-01,  1.37823373e-01,  2.18255166e-02,\n",
              "       -6.31580055e-02, -3.56804490e-01, -1.04981947e+00, -4.25514160e-03,\n",
              "        1.34820193e-01, -1.04840231e+00,  2.37947404e-02, -2.71855783e+00,\n",
              "       -9.91729721e-02, -5.63004427e-02, -4.27977107e-02, -1.07557707e-01,\n",
              "        1.92913383e-01,  8.54734406e-02,  3.15448016e-01,  5.29514104e-02,\n",
              "       -1.04846284e-01, -5.43445311e-02,  2.84394890e-01,  2.10982367e-01,\n",
              "       -4.97869343e-01, -2.54125241e-02,  3.14999759e-01,  2.14556679e-01,\n",
              "       -7.29165852e-01,  3.23935524e-02, -4.19065692e-02, -1.65264621e-01,\n",
              "       -1.50705399e-02,  2.35859916e-01,  1.93549111e-01,  2.37957790e-01,\n",
              "        4.22478020e-02,  3.10761720e-01, -1.16883703e-01, -1.06405476e-02,\n",
              "       -5.42359203e-02, -1.25260472e-01, -6.24480210e-02, -3.15924078e-01],\n",
              "      dtype=float32)"
            ]
          },
          "metadata": {},
          "execution_count": 47
        }
      ]
    },
    {
      "cell_type": "code",
      "source": [],
      "metadata": {
        "id": "-9V7hE0RbIZt"
      },
      "execution_count": null,
      "outputs": []
    }
  ]
}